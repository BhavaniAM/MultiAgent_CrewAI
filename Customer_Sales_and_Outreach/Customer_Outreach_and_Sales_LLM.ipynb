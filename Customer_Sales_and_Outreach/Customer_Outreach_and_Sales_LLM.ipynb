{
  "cells": [
    {
      "cell_type": "markdown",
      "metadata": {
        "id": "FbWoGOis4KoG"
      },
      "source": [
        "# Tools for a Customer Outreach Campaign"
      ]
    },
    {
      "cell_type": "code",
      "source": [
        "!pip install crewai==0.28.8 crewai_tools==0.1.6 langchain_community==0.0.29"
      ],
      "metadata": {
        "id": "zCn_xix47j7M"
      },
      "execution_count": null,
      "outputs": []
    },
    {
      "cell_type": "code",
      "execution_count": null,
      "metadata": {
        "height": 64,
        "id": "_LQ5_lop4KJq"
      },
      "outputs": [],
      "source": [
        "# Warning control\n",
        "import warnings\n",
        "warnings.filterwarnings('ignore')"
      ]
    },
    {
      "cell_type": "markdown",
      "metadata": {
        "id": "qrB5O0vp7TMh"
      },
      "source": [
        "- Import libraries, APIs and LLM\n",
        "- [Serper](https://serper.dev)"
      ]
    },
    {
      "cell_type": "code",
      "execution_count": null,
      "metadata": {
        "height": 30,
        "id": "3TU-lvp-7TMh"
      },
      "outputs": [],
      "source": [
        "from crewai import Agent, Task, Crew"
      ]
    },
    {
      "cell_type": "code",
      "execution_count": null,
      "metadata": {
        "height": 132,
        "id": "mj-M0xF_7TMp"
      },
      "outputs": [],
      "source": [
        "import os\n",
        "from utils import get_openai_api_key, pretty_print_result\n",
        "from utils import get_serper_api_key\n",
        "\n",
        "openai_api_key = get_openai_api_key()\n",
        "os.environ[\"OPENAI_MODEL_NAME\"] = 'gpt-3.5-turbo'\n",
        "os.environ[\"SERPER_API_KEY\"] = get_serper_api_key()"
      ]
    },
    {
      "cell_type": "markdown",
      "metadata": {
        "id": "bFK9P_Ic7TMr"
      },
      "source": [
        "## Creating Agents"
      ]
    },
    {
      "cell_type": "code",
      "execution_count": null,
      "metadata": {
        "height": 319,
        "id": "MjeqLXZa7TMs"
      },
      "outputs": [],
      "source": [
        "sales_rep_agent = Agent(\n",
        "    role=\"Sales Representative\",\n",
        "    goal=\"Identify high-value leads that match \"\n",
        "         \"our ideal customer profile\",\n",
        "    backstory=(\n",
        "        \"As a part of the dynamic sales team at CrewAI, \"\n",
        "        \"your mission is to scour \"\n",
        "        \"the digital landscape for potential leads. \"\n",
        "        \"Armed with cutting-edge tools \"\n",
        "        \"and a strategic mindset, you analyze data, \"\n",
        "        \"trends, and interactions to \"\n",
        "        \"unearth opportunities that others might overlook. \"\n",
        "        \"Your work is crucial in paving the way \"\n",
        "        \"for meaningful engagements and driving the company's growth.\"\n",
        "    ),\n",
        "    allow_delegation=False,\n",
        "    verbose=True\n",
        ")"
      ]
    },
    {
      "cell_type": "code",
      "execution_count": null,
      "metadata": {
        "height": 302,
        "id": "n3oEh6JN7TMt"
      },
      "outputs": [],
      "source": [
        "lead_sales_rep_agent = Agent(\n",
        "    role=\"Lead Sales Representative\",\n",
        "    goal=\"Nurture leads with personalized, compelling communications\",\n",
        "    backstory=(\n",
        "        \"Within the vibrant ecosystem of CrewAI's sales department, \"\n",
        "        \"you stand out as the bridge between potential clients \"\n",
        "        \"and the solutions they need.\"\n",
        "        \"By creating engaging, personalized messages, \"\n",
        "        \"you not only inform leads about our offerings \"\n",
        "        \"but also make them feel seen and heard.\"\n",
        "        \"Your role is pivotal in converting interest \"\n",
        "        \"into action, guiding leads through the journey \"\n",
        "        \"from curiosity to commitment.\"\n",
        "    ),\n",
        "    allow_delegation=False,\n",
        "    verbose=True\n",
        ")"
      ]
    },
    {
      "cell_type": "markdown",
      "metadata": {
        "id": "UXn13x167TMu"
      },
      "source": [
        "## Creating Tools\n",
        "\n",
        "### crewAI Tools"
      ]
    },
    {
      "cell_type": "code",
      "execution_count": null,
      "metadata": {
        "height": 64,
        "id": "YbToHYxT7TMv"
      },
      "outputs": [],
      "source": [
        "from crewai_tools import DirectoryReadTool, FileReadTool, SerperDevTool"
      ]
    },
    {
      "cell_type": "code",
      "execution_count": null,
      "metadata": {
        "height": 64,
        "id": "L8TV_gUR7TMw"
      },
      "outputs": [],
      "source": [
        "directory_read_tool = DirectoryReadTool(directory='./instructions')\n",
        "file_read_tool = FileReadTool()\n",
        "search_tool = SerperDevTool()"
      ]
    },
    {
      "cell_type": "markdown",
      "metadata": {
        "id": "kpTpWuIo7TMx"
      },
      "source": [
        "### Custom Tool"
      ]
    },
    {
      "cell_type": "code",
      "execution_count": null,
      "metadata": {
        "height": 30,
        "id": "y3JmeuuR7TMx"
      },
      "outputs": [],
      "source": [
        "from crewai_tools import BaseTool"
      ]
    },
    {
      "cell_type": "markdown",
      "metadata": {
        "id": "jAtOfwNY7TMy"
      },
      "source": [
        "- Every Tool needs to have a `name` and a `description`."
      ]
    },
    {
      "cell_type": "code",
      "execution_count": null,
      "metadata": {
        "height": 149,
        "id": "RGabxp9H7TMy"
      },
      "outputs": [],
      "source": [
        "class SentimentAnalysisTool(BaseTool):\n",
        "    name: str =\"Sentiment Analysis Tool\"\n",
        "    description: str = (\"Analyzes the sentiment of text \"\n",
        "         \"to ensure positive and engaging communication.\")\n",
        "\n",
        "    def _run(self, text: str) -> str:\n",
        "        return \"positive\""
      ]
    },
    {
      "cell_type": "code",
      "execution_count": null,
      "metadata": {
        "height": 30,
        "id": "f4yVohki7TMz"
      },
      "outputs": [],
      "source": [
        "sentiment_analysis_tool = SentimentAnalysisTool()"
      ]
    },
    {
      "cell_type": "markdown",
      "metadata": {
        "id": "vUuMihFh7TM2"
      },
      "source": [
        "## Creating Tasks"
      ]
    },
    {
      "cell_type": "code",
      "execution_count": null,
      "metadata": {
        "height": 455,
        "id": "kB5UGcAY7TM3"
      },
      "outputs": [],
      "source": [
        "lead_profiling_task = Task(\n",
        "    description=(\n",
        "        \"Conduct an in-depth analysis of {lead_name}, \"\n",
        "        \"a company in the {industry} sector \"\n",
        "        \"that recently showed interest in our solutions. \"\n",
        "        \"Utilize all available data sources \"\n",
        "        \"to compile a detailed profile, \"\n",
        "        \"focusing on key decision-makers, recent business \"\n",
        "        \"developments, and potential needs \"\n",
        "        \"that align with our offerings. \"\n",
        "        \"This task is crucial for tailoring \"\n",
        "        \"our engagement strategy effectively.\\n\"\n",
        "        \"Don't make assumptions and \"\n",
        "        \"only use information you absolutely sure about.\"\n",
        "    ),\n",
        "    expected_output=(\n",
        "        \"A comprehensive report on {lead_name}, \"\n",
        "        \"including company background, \"\n",
        "        \"key personnel, recent milestones, and identified needs. \"\n",
        "        \"Highlight potential areas where \"\n",
        "        \"our solutions can provide value, \"\n",
        "        \"and suggest personalized engagement strategies.\"\n",
        "    ),\n",
        "    tools=[directory_read_tool, file_read_tool, search_tool],\n",
        "    agent=sales_rep_agent,\n",
        ")"
      ]
    },
    {
      "cell_type": "code",
      "execution_count": null,
      "metadata": {
        "height": 506,
        "id": "bCQoA7vf7TM3"
      },
      "outputs": [],
      "source": [
        "personalized_outreach_task = Task(\n",
        "    description=(\n",
        "        \"Using the insights gathered from \"\n",
        "        \"the lead profiling report on {lead_name}, \"\n",
        "        \"craft a personalized outreach campaign \"\n",
        "        \"aimed at {key_decision_maker}, \"\n",
        "        \"the {position} of {lead_name}. \"\n",
        "        \"The campaign should address their recent {milestone} \"\n",
        "        \"and how our solutions can support their goals. \"\n",
        "        \"Your communication must resonate \"\n",
        "        \"with {lead_name}'s company culture and values, \"\n",
        "        \"demonstrating a deep understanding of \"\n",
        "        \"their business and needs.\\n\"\n",
        "        \"Don't make assumptions and only \"\n",
        "        \"use information you absolutely sure about.\"\n",
        "    ),\n",
        "    expected_output=(\n",
        "        \"A series of personalized email drafts \"\n",
        "        \"tailored to {lead_name}, \"\n",
        "        \"specifically targeting {key_decision_maker}.\"\n",
        "        \"Each draft should include \"\n",
        "        \"a compelling narrative that connects our solutions \"\n",
        "        \"with their recent achievements and future goals. \"\n",
        "        \"Ensure the tone is engaging, professional, \"\n",
        "        \"and aligned with {lead_name}'s corporate identity.\"\n",
        "    ),\n",
        "    tools=[sentiment_analysis_tool, search_tool],\n",
        "    agent=lead_sales_rep_agent,\n",
        ")"
      ]
    },
    {
      "cell_type": "markdown",
      "metadata": {
        "id": "faOLn_uC7TM4"
      },
      "source": [
        "## Creating the Crew"
      ]
    },
    {
      "cell_type": "code",
      "execution_count": null,
      "metadata": {
        "height": 183,
        "id": "iHZMbCpi7TM5"
      },
      "outputs": [],
      "source": [
        "crew = Crew(\n",
        "    agents=[sales_rep_agent,\n",
        "            lead_sales_rep_agent],\n",
        "\n",
        "    tasks=[lead_profiling_task,\n",
        "           personalized_outreach_task],\n",
        "\n",
        "    verbose=2,\n",
        "\tmemory=True\n",
        ")"
      ]
    },
    {
      "cell_type": "markdown",
      "metadata": {
        "id": "iyABOySm7TM5"
      },
      "source": [
        "## Running the Crew"
      ]
    },
    {
      "cell_type": "code",
      "execution_count": null,
      "metadata": {
        "height": 166,
        "id": "1Bb-6pJn7TM5"
      },
      "outputs": [],
      "source": [
        "inputs = {\n",
        "    \"lead_name\": \"DeepLearningAI\",\n",
        "    \"industry\": \"Online Learning Platform\",\n",
        "    \"key_decision_maker\": \"Andrew Ng\",\n",
        "    \"position\": \"CEO\",\n",
        "    \"milestone\": \"product launch\"\n",
        "}\n",
        "\n",
        "result = crew.kickoff(inputs=inputs)"
      ]
    },
    {
      "cell_type": "markdown",
      "metadata": {
        "id": "I-FEEGLX7TNb"
      },
      "source": [
        "- Display the final result as Markdown."
      ]
    },
    {
      "cell_type": "code",
      "execution_count": null,
      "metadata": {
        "height": 47,
        "id": "SzfQu89D7TNc"
      },
      "outputs": [],
      "source": [
        "from IPython.display import Markdown\n",
        "Markdown(result)"
      ]
    },
    {
      "cell_type": "code",
      "execution_count": null,
      "metadata": {
        "height": 30,
        "id": "fomW_ON07TNc"
      },
      "outputs": [],
      "source": []
    }
  ],
  "metadata": {
    "colab": {
      "provenance": []
    },
    "kernelspec": {
      "display_name": "Python 3 (ipykernel)",
      "language": "python",
      "name": "python3"
    },
    "language_info": {
      "codemirror_mode": {
        "name": "ipython",
        "version": 3
      },
      "file_extension": ".py",
      "mimetype": "text/x-python",
      "name": "python",
      "nbconvert_exporter": "python",
      "pygments_lexer": "ipython3",
      "version": "3.11.9"
    }
  },
  "nbformat": 4,
  "nbformat_minor": 0
}