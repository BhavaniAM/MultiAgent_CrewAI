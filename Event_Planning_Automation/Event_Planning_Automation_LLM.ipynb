{
  "cells": [
    {
      "cell_type": "markdown",
      "metadata": {
        "id": "oZw3dw2e8rYF"
      },
      "source": [
        "# Automate Event Planning\n",
        "\n"
      ]
    },
    {
      "cell_type": "code",
      "source": [
        "!pip install crewai==0.28.8 crewai_tools==0.1.6 langchain_community==0.0.29"
      ],
      "metadata": {
        "id": "oJxWvZY28yHm"
      },
      "execution_count": null,
      "outputs": []
    },
    {
      "cell_type": "code",
      "execution_count": null,
      "metadata": {
        "height": 64,
        "id": "RmmhaNme8rYO"
      },
      "outputs": [],
      "source": [
        "# Warning control\n",
        "import warnings\n",
        "warnings.filterwarnings('ignore')"
      ]
    },
    {
      "cell_type": "markdown",
      "metadata": {
        "id": "z14-ccDg8rYQ"
      },
      "source": [
        "- Import libraries, APIs and LLM"
      ]
    },
    {
      "cell_type": "code",
      "execution_count": null,
      "metadata": {
        "height": 30,
        "id": "FboHrhlq8rYQ"
      },
      "outputs": [],
      "source": [
        "from crewai import Agent, Crew, Task"
      ]
    },
    {
      "cell_type": "code",
      "execution_count": null,
      "metadata": {
        "height": 115,
        "id": "mC7mwuKP8rYR"
      },
      "outputs": [],
      "source": [
        "import os\n",
        "from utils import get_openai_api_key,get_serper_api_key\n",
        "\n",
        "openai_api_key = get_openai_api_key()\n",
        "os.environ[\"OPENAI_MODEL_NAME\"] = 'gpt-3.5-turbo'\n",
        "os.environ[\"SERPER_API_KEY\"] = get_serper_api_key()"
      ]
    },
    {
      "cell_type": "markdown",
      "metadata": {
        "id": "IM7UbrK88rYU"
      },
      "source": [
        "## crewAI Tools"
      ]
    },
    {
      "cell_type": "code",
      "execution_count": null,
      "metadata": {
        "height": 98,
        "id": "DCZarxnc8rYV"
      },
      "outputs": [],
      "source": [
        "from crewai_tools import ScrapeWebsiteTool, SerperDevTool\n",
        "\n",
        "# Initialize the tools\n",
        "search_tool = SerperDevTool()\n",
        "scrape_tool = ScrapeWebsiteTool()"
      ]
    },
    {
      "cell_type": "markdown",
      "metadata": {
        "id": "oz0Y1Mf-8rYW"
      },
      "source": [
        "## Creating Agents"
      ]
    },
    {
      "cell_type": "code",
      "execution_count": null,
      "metadata": {
        "height": 268,
        "id": "j9SK1TcK8rYX"
      },
      "outputs": [],
      "source": [
        "# Agent 1: Venue Coordinator\n",
        "venue_coordinator = Agent(\n",
        "    role=\"Venue Coordinator\",\n",
        "    goal=\"Identify and book an appropriate venue \"\n",
        "    \"based on event requirements\",\n",
        "    tools=[search_tool, scrape_tool],\n",
        "    verbose=True,\n",
        "    backstory=(\n",
        "        \"With a keen sense of space and \"\n",
        "        \"understanding of event logistics, \"\n",
        "        \"you excel at finding and securing \"\n",
        "        \"the perfect venue that fits the event's theme, \"\n",
        "        \"size, and budget constraints.\"\n",
        "    )\n",
        ")"
      ]
    },
    {
      "cell_type": "code",
      "execution_count": null,
      "metadata": {
        "height": 285,
        "id": "jBEzCMBr8rYZ"
      },
      "outputs": [],
      "source": [
        " # Agent 2: Logistics Manager\n",
        "logistics_manager = Agent(\n",
        "    role='Logistics Manager',\n",
        "    goal=(\n",
        "        \"Manage all logistics for the event \"\n",
        "        \"including catering and equipmen\"\n",
        "    ),\n",
        "    tools=[search_tool, scrape_tool],\n",
        "    verbose=True,\n",
        "    backstory=(\n",
        "        \"Organized and detail-oriented, \"\n",
        "        \"you ensure that every logistical aspect of the event \"\n",
        "        \"from catering to equipment setup \"\n",
        "        \"is flawlessly executed to create a seamless experience.\"\n",
        "    )\n",
        ")"
      ]
    },
    {
      "cell_type": "code",
      "execution_count": null,
      "metadata": {
        "height": 251,
        "id": "u6-Go_VC8rYa"
      },
      "outputs": [],
      "source": [
        "# Agent 3: Marketing and Communications Agent\n",
        "marketing_communications_agent = Agent(\n",
        "    role=\"Marketing and Communications Agent\",\n",
        "    goal=\"Effectively market the event and \"\n",
        "         \"communicate with participants\",\n",
        "    tools=[search_tool, scrape_tool],\n",
        "    verbose=True,\n",
        "    backstory=(\n",
        "        \"Creative and communicative, \"\n",
        "        \"you craft compelling messages and \"\n",
        "        \"engage with potential attendees \"\n",
        "        \"to maximize event exposure and participation.\"\n",
        "    )\n",
        ")"
      ]
    },
    {
      "cell_type": "markdown",
      "metadata": {
        "id": "w7T657fl8rYc"
      },
      "source": [
        "## Creating Venue Pydantic Object\n",
        "\n",
        "- Create a class `VenueDetails` using [Pydantic BaseModel](https://docs.pydantic.dev/latest/api/base_model/).\n",
        "- Agents will populate this object with information about different venues by creating different instances of it."
      ]
    },
    {
      "cell_type": "code",
      "execution_count": null,
      "metadata": {
        "height": 149,
        "id": "vw4-K1RR8rYd"
      },
      "outputs": [],
      "source": [
        "from pydantic import BaseModel\n",
        "# Define a Pydantic model for venue details\n",
        "# (demonstrating Output as Pydantic)\n",
        "class VenueDetails(BaseModel):\n",
        "    name: str\n",
        "    address: str\n",
        "    capacity: int\n",
        "    booking_status: str"
      ]
    },
    {
      "cell_type": "markdown",
      "metadata": {
        "id": "1_zle89G8rYe"
      },
      "source": [
        "## Creating Tasks\n",
        "- Using `output_json` to specify the structure of the output needed.\n",
        "- Using `output_file` to get the output in a file.\n",
        "- Setting `human_input=True` will cause the task will ask for human feedback (whether you like the results or not) before finalising it."
      ]
    },
    {
      "cell_type": "code",
      "execution_count": null,
      "metadata": {
        "height": 200,
        "id": "IF3HenXD8rYe"
      },
      "outputs": [],
      "source": [
        "venue_task = Task(\n",
        "    description=\"Find a venue in {event_city} \"\n",
        "                \"that meets criteria for {event_topic}.\",\n",
        "    expected_output=\"All the details of a specifically chosen\"\n",
        "                    \"venue you found to accommodate the event.\",\n",
        "    human_input=True,\n",
        "    output_json=VenueDetails,\n",
        "    output_file=\"venue_details.json\",\n",
        "      # Outputs the venue details as a JSON file\n",
        "    agent=venue_coordinator\n",
        ")"
      ]
    },
    {
      "cell_type": "markdown",
      "metadata": {
        "id": "9C5V_xRw8rYf"
      },
      "source": [
        "- By setting `async_execution=True`, it means the task can run in parallel with the tasks which come after it."
      ]
    },
    {
      "cell_type": "code",
      "execution_count": null,
      "metadata": {
        "height": 200,
        "id": "3SqPorGz8rYg"
      },
      "outputs": [],
      "source": [
        "logistics_task = Task(\n",
        "    description=\"Coordinate catering and \"\n",
        "                 \"equipment for an event \"\n",
        "                 \"with {expected_participants} participants \"\n",
        "                 \"on {tentative_date}.\",\n",
        "    expected_output=\"Confirmation of all logistics arrangements \"\n",
        "                    \"including catering and equipment setup.\",\n",
        "    human_input=True,\n",
        "    async_execution=True,\n",
        "    agent=logistics_manager\n",
        ")"
      ]
    },
    {
      "cell_type": "code",
      "execution_count": null,
      "metadata": {
        "height": 183,
        "id": "QmpuTYnP8rYg"
      },
      "outputs": [],
      "source": [
        "marketing_task = Task(\n",
        "    description=\"Promote the {event_topic} \"\n",
        "                \"aiming to engage at least\"\n",
        "                \"{expected_participants} potential attendees.\",\n",
        "    expected_output=\"Report on marketing activities \"\n",
        "                    \"and attendee engagement formatted as markdown.\",\n",
        "    async_execution=True,\n",
        "    output_file=\"marketing_report.md\",  # Outputs the report as a text file\n",
        "    agent=marketing_communications_agent\n",
        ")"
      ]
    },
    {
      "cell_type": "markdown",
      "metadata": {
        "id": "jDwbocJN8rYg"
      },
      "source": [
        "## Creating the Crew"
      ]
    },
    {
      "cell_type": "code",
      "execution_count": null,
      "metadata": {
        "height": 217,
        "id": "_M-0umhC8rYi"
      },
      "outputs": [],
      "source": [
        "# Define the crew with agents and tasks\n",
        "event_management_crew = Crew(\n",
        "    agents=[venue_coordinator,\n",
        "            logistics_manager,\n",
        "            marketing_communications_agent],\n",
        "\n",
        "    tasks=[venue_task,\n",
        "           logistics_task,\n",
        "           marketing_task],\n",
        "\n",
        "    verbose=True\n",
        ")"
      ]
    },
    {
      "cell_type": "markdown",
      "metadata": {
        "id": "mO1dEOkN8rYj"
      },
      "source": [
        "## Running the Crew\n",
        "\n",
        "- Set the inputs for the execution of the crew."
      ]
    },
    {
      "cell_type": "code",
      "execution_count": null,
      "metadata": {
        "height": 200,
        "id": "CwisNODV8rYk"
      },
      "outputs": [],
      "source": [
        "event_details = {\n",
        "    'event_topic': \"Tech Innovation Conference\",\n",
        "    'event_description': \"A gathering of tech innovators \"\n",
        "                         \"and industry leaders \"\n",
        "                         \"to explore future technologies.\",\n",
        "    'event_city': \"San Francisco\",\n",
        "    'tentative_date': \"2024-09-15\",\n",
        "    'expected_participants': 500,\n",
        "    'budget': 20000,\n",
        "    'venue_type': \"Conference Hall\"\n",
        "}"
      ]
    },
    {
      "cell_type": "code",
      "execution_count": null,
      "metadata": {
        "height": 30,
        "id": "VW7i5ptY8rYn"
      },
      "outputs": [],
      "source": [
        "result = event_management_crew.kickoff(inputs=event_details)"
      ]
    },
    {
      "cell_type": "markdown",
      "metadata": {
        "id": "FmE8AKbz8rYo"
      },
      "source": [
        "- Display the generated `venue_details.json` file."
      ]
    },
    {
      "cell_type": "code",
      "execution_count": null,
      "metadata": {
        "height": 132,
        "id": "CPKNLyza8rYo"
      },
      "outputs": [],
      "source": [
        "import json\n",
        "from pprint import pprint\n",
        "\n",
        "with open('venue_details.json') as f:\n",
        "   data = json.load(f)\n",
        "\n",
        "pprint(data)"
      ]
    },
    {
      "cell_type": "code",
      "execution_count": null,
      "metadata": {
        "height": 47,
        "id": "d0PJaB5u8rYs"
      },
      "outputs": [],
      "source": [
        "from IPython.display import Markdown\n",
        "Markdown(\"marketing_report.md\")"
      ]
    },
    {
      "cell_type": "code",
      "execution_count": null,
      "metadata": {
        "height": 30,
        "id": "pq4QfIWt8rYt"
      },
      "outputs": [],
      "source": []
    }
  ],
  "metadata": {
    "kernelspec": {
      "display_name": "Python 3 (ipykernel)",
      "language": "python",
      "name": "python3"
    },
    "language_info": {
      "codemirror_mode": {
        "name": "ipython",
        "version": 3
      },
      "file_extension": ".py",
      "mimetype": "text/x-python",
      "name": "python",
      "nbconvert_exporter": "python",
      "pygments_lexer": "ipython3",
      "version": "3.11.9"
    },
    "colab": {
      "provenance": []
    }
  },
  "nbformat": 4,
  "nbformat_minor": 0
}